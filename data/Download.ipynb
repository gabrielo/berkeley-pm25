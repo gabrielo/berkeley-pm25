{
 "cells": [
  {
   "cell_type": "code",
   "execution_count": null,
   "metadata": {
    "collapsed": true
   },
   "outputs": [],
   "source": [
    "from datetime import timedelta, date\n",
    "import time\n",
    "\n",
    "def daterange(start_date, end_date):\n",
    "    for n in range(int ((end_date - start_date).days)):\n",
    "        yield start_date + timedelta(n)\n",
    "\n"
   ]
  },
  {
   "cell_type": "code",
   "execution_count": null,
   "metadata": {
    "collapsed": true
   },
   "outputs": [],
   "source": [
    "remote_url = \"http://berkeleyearth.lbl.gov/air-quality/data/\"\n",
    "start_date = date(2016, 6, 1)\n",
    "end_date = date(2017, 3, 20)\n",
    "for single_date in daterange(start_date, end_date):\n",
    "    dl = \"%sMap_%s.nc\"% (remote_url, single_date.strftime(\"%Y%m%d\"))\n",
    "    cmd = \"wget %s\" % dl\n",
    "    !$cmd\n",
    "    time.sleep(1)"
   ]
  }
 ],
 "metadata": {
  "kernelspec": {
   "display_name": "Python 2",
   "language": "python",
   "name": "python2"
  },
  "language_info": {
   "codemirror_mode": {
    "name": "ipython",
    "version": 2
   },
   "file_extension": ".py",
   "mimetype": "text/x-python",
   "name": "python",
   "nbconvert_exporter": "python",
   "pygments_lexer": "ipython2",
   "version": "2.7.13"
  }
 },
 "nbformat": 4,
 "nbformat_minor": 1
}
