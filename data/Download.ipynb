{
 "metadata": {
  "name": "",
  "signature": "sha256:64bd42ee8958017183ee306797da2136b15994b7676ed99eeac33285cdb578cf"
 },
 "nbformat": 3,
 "nbformat_minor": 0,
 "worksheets": [
  {
   "cells": [
    {
     "cell_type": "code",
     "collapsed": false,
     "input": [
      "from datetime import timedelta, date\n",
      "import time\n",
      "\n",
      "def daterange(start_date, end_date):\n",
      "    for n in range(int ((end_date - start_date).days)):\n",
      "        yield start_date + timedelta(n)\n",
      "\n"
     ],
     "language": "python",
     "metadata": {},
     "outputs": []
    },
    {
     "cell_type": "code",
     "collapsed": false,
     "input": [
      "remote_url = \"http://berkeleyearth.lbl.gov/air-quality/data/\"\n",
      "start_date = date(2016, 6, 1)\n",
      "end_date = date(2017, 3, 20)\n",
      "for single_date in daterange(start_date, end_date):\n",
      "    dl = \"%sMap_%s.nc\"% (remote_url, single_date.strftime(\"%Y%m%d\"))\n",
      "    cmd = \"wget %s\" % dl\n",
      "    !$cmd\n",
      "    time.sleep(1)"
     ],
     "language": "python",
     "metadata": {},
     "outputs": []
    },
    {
     "cell_type": "code",
     "collapsed": false,
     "input": [
      "sleep(1)"
     ],
     "language": "python",
     "metadata": {},
     "outputs": []
    },
    {
     "cell_type": "code",
     "collapsed": false,
     "input": [],
     "language": "python",
     "metadata": {},
     "outputs": []
    }
   ],
   "metadata": {}
  }
 ]
}