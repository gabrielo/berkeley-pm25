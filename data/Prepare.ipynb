{
 "metadata": {
  "name": "",
  "signature": "sha256:f083eb240341791847014669fba729940f09ac6da3dc8bfb9ac6e26198dc94bc"
 },
 "nbformat": 3,
 "nbformat_minor": 0,
 "worksheets": [
  {
   "cells": [
    {
     "cell_type": "code",
     "collapsed": false,
     "input": [
      "from datetime import timedelta, date\n",
      "import time\n",
      "import matplotlib.colors as colors\n",
      "\n",
      "def daterange(start_date, end_date):\n",
      "    for n in range(int ((end_date - start_date).days)):\n",
      "        yield start_date + timedelta(n)\n",
      "\n",
      "\n",
      "def HexToRgb(hex_string):\n",
      "    rgb = colors.hex2color(hex_string)\n",
      "    r,g,b = tuple([int(255*x) for x in rgb])\n",
      "    return (r,g,b)\n",
      "\n",
      "def ProducePng(datestr):\n",
      "    cmd = \"rm -f *.tif*\"\n",
      "    !$cmd\n",
      "    netcdf = 'NETCDF:\"Map_%s.nc\":pm25' % (datestr)\n",
      "    cmd = 'GDAL_NETCDF_BOTTOMUP=NO gdal_translate -a_ullr -180 -90 180 90 -a_nodata -9999 -of GTiff  -b 1 %s %s.tif' % (netcdf, datestr)\n",
      "    !$cmd\n",
      "    cmd = 'gdalwarp -s_srs EPSG:4326 -t_srs EPSG:3857 -te -20037508.34 -20037508.34 20037508.34 20037508.34 -ts 1024 1024 -r cubicspline %s.tif %s-3857.tif' % (datestr, datestr)\n",
      "    !$cmd\n",
      "    cmd = 'gdaldem color-relief -alpha %s-3857.tif ramp.txt %s-color-3857.tif' % (datestr, datestr)\n",
      "    !$cmd\n",
      "    cmd = \"convert %s-color-3857.tif %s.png\" % (datestr, datestr)\n",
      "    !$cmd"
     ],
     "language": "python",
     "metadata": {},
     "outputs": [],
     "prompt_number": 7
    },
    {
     "cell_type": "code",
     "collapsed": false,
     "input": [
      "ProducePng(\"20161230\")"
     ],
     "language": "python",
     "metadata": {},
     "outputs": [
      {
       "output_type": "stream",
       "stream": "stdout",
       "text": [
        "Input file size is 3380, 1256\r\n",
        "0"
       ]
      },
      {
       "output_type": "stream",
       "stream": "stdout",
       "text": [
        "...10...20...30...40...50...60...70...80...90..."
       ]
      },
      {
       "output_type": "stream",
       "stream": "stdout",
       "text": [
        "100 - done.\r\n"
       ]
      },
      {
       "output_type": "stream",
       "stream": "stdout",
       "text": [
        "Creating output file that is 512P x 512L.\r\n",
        "Processing input file 20161230.tif.\r\n",
        "Using internal nodata values (e.g. -9999) for image 20161230.tif.\r\n",
        "Copying nodata values from source 20161230.tif to destination 20161230-3857.tif.\r\n"
       ]
      },
      {
       "output_type": "stream",
       "stream": "stdout",
       "text": [
        "0.."
       ]
      },
      {
       "output_type": "stream",
       "stream": "stdout",
       "text": [
        ".10."
       ]
      },
      {
       "output_type": "stream",
       "stream": "stdout",
       "text": [
        "..20."
       ]
      },
      {
       "output_type": "stream",
       "stream": "stdout",
       "text": [
        "..30."
       ]
      },
      {
       "output_type": "stream",
       "stream": "stdout",
       "text": [
        "..40."
       ]
      },
      {
       "output_type": "stream",
       "stream": "stdout",
       "text": [
        "..50"
       ]
      },
      {
       "output_type": "stream",
       "stream": "stdout",
       "text": [
        "...60"
       ]
      },
      {
       "output_type": "stream",
       "stream": "stdout",
       "text": [
        "...70"
       ]
      },
      {
       "output_type": "stream",
       "stream": "stdout",
       "text": [
        "...80"
       ]
      },
      {
       "output_type": "stream",
       "stream": "stdout",
       "text": [
        "...90"
       ]
      },
      {
       "output_type": "stream",
       "stream": "stdout",
       "text": [
        "..."
       ]
      },
      {
       "output_type": "stream",
       "stream": "stdout",
       "text": [
        "100 - done.\r\n"
       ]
      },
      {
       "output_type": "stream",
       "stream": "stdout",
       "text": [
        "0...10...20...30...40...50...60...70...80...90...100 - done.\r\n"
       ]
      },
      {
       "output_type": "stream",
       "stream": "stdout",
       "text": [
        "convert: Unknown field with tag 33550 (0x830e) encountered. `TIFFReadDirectory' @ warning/tiff.c/TIFFWarnings/887.\r\n",
        "convert: Unknown field with tag 33922 (0x8482) encountered. `TIFFReadDirectory' @ warning/tiff.c/TIFFWarnings/887.\r\n",
        "convert: Unknown field with tag 34735 (0x87af) encountered. `TIFFReadDirectory' @ warning/tiff.c/TIFFWarnings/887.\r\n",
        "convert: Unknown field with tag 34737 (0x87b1) encountered. `TIFFReadDirectory' @ warning/tiff.c/TIFFWarnings/887.\r\n"
       ]
      }
     ],
     "prompt_number": 5
    },
    {
     "cell_type": "code",
     "collapsed": false,
     "input": [
      "ProducePng(\"20161229\")"
     ],
     "language": "python",
     "metadata": {},
     "outputs": [
      {
       "output_type": "stream",
       "stream": "stdout",
       "text": [
        "Input file size is 3379, 1256\r\n",
        "0"
       ]
      },
      {
       "output_type": "stream",
       "stream": "stdout",
       "text": [
        "...10...20...30...40...50...60...70...80"
       ]
      },
      {
       "output_type": "stream",
       "stream": "stdout",
       "text": [
        "...90...100 - done.\r\n"
       ]
      },
      {
       "output_type": "stream",
       "stream": "stdout",
       "text": [
        "Creating output file that is 512P x 512L.\r\n",
        "Processing input file 20161229.tif.\r\n",
        "Using internal nodata values (e.g. -9999) for image 20161229.tif.\r\n",
        "Copying nodata values from source 20161229.tif to destination 20161229-3857.tif.\r\n"
       ]
      },
      {
       "output_type": "stream",
       "stream": "stdout",
       "text": [
        "0..."
       ]
      },
      {
       "output_type": "stream",
       "stream": "stdout",
       "text": [
        "10..."
       ]
      },
      {
       "output_type": "stream",
       "stream": "stdout",
       "text": [
        "20.."
       ]
      },
      {
       "output_type": "stream",
       "stream": "stdout",
       "text": [
        ".30.."
       ]
      },
      {
       "output_type": "stream",
       "stream": "stdout",
       "text": [
        ".40.."
       ]
      },
      {
       "output_type": "stream",
       "stream": "stdout",
       "text": [
        ".50.."
       ]
      },
      {
       "output_type": "stream",
       "stream": "stdout",
       "text": [
        ".60.."
       ]
      },
      {
       "output_type": "stream",
       "stream": "stdout",
       "text": [
        ".70."
       ]
      },
      {
       "output_type": "stream",
       "stream": "stdout",
       "text": [
        "..80."
       ]
      },
      {
       "output_type": "stream",
       "stream": "stdout",
       "text": [
        "..90"
       ]
      },
      {
       "output_type": "stream",
       "stream": "stdout",
       "text": [
        "...100 - done.\r\n"
       ]
      },
      {
       "output_type": "stream",
       "stream": "stdout",
       "text": [
        "Computing source raster statistics...\r\n",
        "0...10...20...30...40...50...60...70...80...90...100 - done.\r\n"
       ]
      },
      {
       "output_type": "stream",
       "stream": "stdout",
       "text": [
        "convert: Unknown field with tag 33550 (0x830e) encountered. `TIFFReadDirectory' @ warning/tiff.c/TIFFWarnings/887.\r\n",
        "convert: Unknown field with tag 33922 (0x8482) encountered. `TIFFReadDirectory' @ warning/tiff.c/TIFFWarnings/887.\r\n",
        "convert: Unknown field with tag 34735 (0x87af) encountered. `TIFFReadDirectory' @ warning/tiff.c/TIFFWarnings/887.\r\n",
        "convert: Unknown field with tag 34737 (0x87b1) encountered. `TIFFReadDirectory' @ warning/tiff.c/TIFFWarnings/887.\r\n"
       ]
      }
     ],
     "prompt_number": 6
    },
    {
     "cell_type": "code",
     "collapsed": false,
     "input": [],
     "language": "python",
     "metadata": {},
     "outputs": []
    }
   ],
   "metadata": {}
  }
 ]
}