{
 "cells": [
  {
   "cell_type": "code",
   "execution_count": null,
   "metadata": {},
   "outputs": [],
   "source": [
    "from datetime import timedelta, date\n",
    "import os, time\n",
    "import matplotlib.colors as colors\n",
    "from netCDF4 import Dataset\n",
    "from osgeo import gdal\n",
    "\n",
    "def daterange(start_date, end_date):\n",
    "    for n in range(int ((end_date - start_date).days)):\n",
    "        yield start_date + timedelta(n)\n",
    "\n",
    "\n",
    "def HexToRgb(hex_string):\n",
    "    rgb = colors.hex2color(hex_string)\n",
    "    r,g,b = tuple([int(255*x) for x in rgb])\n",
    "    return (r,g,b)\n",
    "\n",
    "def ProducePng(datestr):\n",
    "    cmd = \"rm -f *.tif*\"\n",
    "    !$cmd\n",
    "    netcdf = 'NETCDF:\"Map_%s.nc\":pm25' % (datestr)\n",
    "    cmd = 'GDAL_NETCDF_BOTTOMUP=NO gdal_translate -a_ullr -180 -90 180 90 -a_nodata -9999 -of GTiff  -b 1 %s %s.tif' % (netcdf, datestr)\n",
    "    !$cmd\n",
    "    cmd = 'gdalwarp -s_srs EPSG:4326 -t_srs EPSG:3857 -te -20037508.34 -20037508.34 20037508.34 20037508.34 -ts 512 512 -r cubicspline %s.tif %s-3857.tif' % (datestr, datestr)\n",
    "    !$cmd\n",
    "    cmd = 'gdaldem color-relief -alpha %s-3857.tif ramp.txt %s-color-3857.tif' % (datestr, datestr)\n",
    "    !$cmd\n",
    "    cmd = \"convert %s-color-3857.tif %s.png\" % (datestr, datestr)\n",
    "    !$cmd"
   ]
  },
  {
   "cell_type": "code",
   "execution_count": null,
   "metadata": {
    "collapsed": true
   },
   "outputs": [],
   "source": [
    "ProducePng(\"20161230\")"
   ]
  },
  {
   "cell_type": "code",
   "execution_count": null,
   "metadata": {
    "collapsed": true
   },
   "outputs": [],
   "source": [
    "ProducePng(\"20170108\")"
   ]
  },
  {
   "cell_type": "code",
   "execution_count": null,
   "metadata": {
    "collapsed": true
   },
   "outputs": [],
   "source": [
    "start_date = date(2016, 6, 1)\n",
    "end_date = date(2017, 3, 20)\n",
    "for single_date in daterange(start_date, end_date):\n",
    "    ProducePng(single_date.strftime(\"%Y%m%d\"))\n"
   ]
  },
  {
   "cell_type": "code",
   "execution_count": null,
   "metadata": {
    "collapsed": true
   },
   "outputs": [],
   "source": [
    "cmd = \"ffmpeg -framerate 30 -pattern_type glob -i '*.png' -c:v libx264 -s:v 512x512 -pix_fmt yuv420p -bf 0 -g 10 out.mp4\"\n",
    "!$cmd"
   ]
  },
  {
   "cell_type": "code",
   "execution_count": null,
   "metadata": {
    "collapsed": true
   },
   "outputs": [],
   "source": []
  },
  {
   "cell_type": "code",
   "execution_count": null,
   "metadata": {
    "collapsed": true
   },
   "outputs": [],
   "source": [
    "rootgrp = Dataset(\"Map_20160608.nc\", \"r\", format=\"NETCDF4\")\n",
    "lon = rootgrp.variables['longitude']\n",
    "lat = rootgrp.variables['latitude']\n",
    "print lon[0:10]\n",
    "print lon[len(lon)-10: len(lon)]\n",
    "print lat[0:10]\n",
    "print lat[len(lat)-10: len(lat)]"
   ]
  },
  {
   "cell_type": "code",
   "execution_count": null,
   "metadata": {
    "collapsed": true
   },
   "outputs": [],
   "source": [
    "rootgrp.variables['pm25'][23][100][0]"
   ]
  },
  {
   "cell_type": "code",
   "execution_count": null,
   "metadata": {
    "collapsed": true
   },
   "outputs": [],
   "source": []
  },
  {
   "cell_type": "code",
   "execution_count": null,
   "metadata": {
    "collapsed": true
   },
   "outputs": [],
   "source": [
    "rootgrp = Dataset(\"Map_20160609.nc\", \"r\", format=\"NETCDF4\")\n",
    "lon = rootgrp.variables['longitude']\n",
    "lat = rootgrp.variables['latitude']\n",
    "print lon[0:10]\n",
    "print lon[len(lon)-10: len(lon)]\n",
    "print lat[0:10]\n",
    "print lat[len(lat)-10: len(lat)]"
   ]
  },
  {
   "cell_type": "code",
   "execution_count": null,
   "metadata": {
    "collapsed": true
   },
   "outputs": [],
   "source": [
    "rootgrp = Dataset(\"Map_20160618.nc\", \"r\", format=\"NETCDF4\")\n",
    "lon = rootgrp.variables['longitude']\n",
    "lat = rootgrp.variables['latitude']\n",
    "print len(lon)\n",
    "print len(lat)\n",
    "print lon[0:10]\n",
    "print lon[len(lon)-10: len(lon)]\n",
    "print lat[0:10]\n",
    "print lat[len(lat)-10: len(lat)]\n"
   ]
  },
  {
   "cell_type": "code",
   "execution_count": null,
   "metadata": {
    "collapsed": true
   },
   "outputs": [],
   "source": []
  },
  {
   "cell_type": "code",
   "execution_count": null,
   "metadata": {
    "collapsed": true
   },
   "outputs": [],
   "source": [
    "rootgrp.variables['pm25']"
   ]
  },
  {
   "cell_type": "code",
   "execution_count": null,
   "metadata": {
    "collapsed": true
   },
   "outputs": [],
   "source": [
    "pm25 = rootgrp.variables['pm25']\n",
    "dir(pm25)\n",
    "a = pm25[0][0][0]\n",
    "dir(a)\n",
    "a.__class__"
   ]
  },
  {
   "cell_type": "code",
   "execution_count": null,
   "metadata": {
    "collapsed": true
   },
   "outputs": [],
   "source": [
    "start_date = date(2016, 6, 1)\n",
    "end_date = date(2017, 3, 20)\n",
    "for single_date in daterange(start_date, end_date):\n",
    "    datestr  = single_date.strftime(\"%Y%m%d\")\n",
    "    ncfilename = \"Map_%s.nc\" % (datestr)\n",
    "    if os.path.exists(ncfilename):\n",
    "        rootgrp = Dataset(ncfilename, \"r\", format=\"NETCDF4\")\n",
    "        lon = rootgrp.variables['longitude']\n",
    "        lat = rootgrp.variables['latitude']\n",
    "        print \"%s %s %s\" % (ncfilename, len(lon), len(lat))"
   ]
  },
  {
   "cell_type": "code",
   "execution_count": null,
   "metadata": {
    "collapsed": true
   },
   "outputs": [],
   "source": []
  },
  {
   "cell_type": "code",
   "execution_count": null,
   "metadata": {
    "collapsed": true
   },
   "outputs": [],
   "source": [
    "rootgrp = Dataset(\"Map_20160609.nc\", \"r\", format=\"NETCDF4\")\n",
    "lon = rootgrp.variables['longitude']\n",
    "lat = rootgrp.variables['latitude']\n",
    "print lon[0:10]\n",
    "print lon[len(lon)-10: len(lon)]\n",
    "print lat[0:10]\n",
    "print lat[len(lat)-10: len(lat)]"
   ]
  },
  {
   "cell_type": "code",
   "execution_count": null,
   "metadata": {
    "collapsed": true
   },
   "outputs": [],
   "source": [
    "def ProducePng2(datestr):\n",
    "    print datestr\n",
    "    netcdf = 'NETCDF:\"Map_%s.nc\":pm25' % (datestr)\n",
    "    src_ds = gdal.Open(netcdf)\n",
    "    ulx, xres, xskew, uly, yskew, yres  = src_ds.GetGeoTransform()\n",
    "    lrx = ulx + (src_ds.RasterXSize * xres)\n",
    "    lry = uly + (src_ds.RasterYSize * yres)    \n",
    "    cmd = \"rm -f *.tif*\"\n",
    "    !$cmd\n",
    "    cmd = 'GDAL_NETCDF_BOTTOMUP=NO gdal_translate -q -a_ullr %s %s %s %s -a_nodata -9999 -of GTiff  -b 1 %s %s.tif' % (ulx, lry, lrx, uly, netcdf, datestr)\n",
    "    !$cmd\n",
    "#    cmd = 'gdalwarp -q -s_srs EPSG:4326 -t_srs EPSG:3857 -te -20037508.34 -20037508.34 20037508.34 20037508.34 -ts 8192 8192 -r cubicspline %s.tif %s-3857.tif' % (datestr, datestr)\n",
    "    cmd = 'gdalwarp -q -s_srs EPSG:4326 -t_srs EPSG:3857 -te -20037508.34 -20037508.34 20037508.34 20037508.34 -ts 1024 1024 -r cubicspline %s.tif %s-3857.tif' % (datestr, datestr)\n",
    "    !$cmd\n",
    "    cmd = 'gdaldem color-relief -q -alpha %s-3857.tif ramp.txt %s-color-3857.tif' % (datestr, datestr)\n",
    "    !$cmd\n",
    "    cmd = \"convert %s-color-3857.tif %s.png\" % (datestr, datestr)\n",
    "    !$cmd"
   ]
  },
  {
   "cell_type": "code",
   "execution_count": null,
   "metadata": {},
   "outputs": [],
   "source": [
    "ProducePng2(20170101)\n"
   ]
  },
  {
   "cell_type": "code",
   "execution_count": null,
   "metadata": {
    "collapsed": true
   },
   "outputs": [],
   "source": [
    "start_date = date(2016, 6, 1)\n",
    "end_date = date(2017, 3, 20)\n",
    "for single_date in daterange(start_date, end_date):\n",
    "    ProducePng2(single_date.strftime(\"%Y%m%d\"))\n"
   ]
  },
  {
   "cell_type": "code",
   "execution_count": null,
   "metadata": {},
   "outputs": [],
   "source": [
    "dates = []\n",
    "start_date = date(2016, 6, 1)\n",
    "end_date = date(2017, 3, 20)\n",
    "for single_date in daterange(start_date, end_date):\n",
    "    datestr  = single_date.strftime(\"%Y%m%d\")\n",
    "    ncfilename = \"Map_%s.nc\" % (datestr)\n",
    "    if os.path.exists(ncfilename):\n",
    "        ProducePng2(datestr)\n",
    "        dates.append(single_date.strftime(\"%Y-%m-%d\"))"
   ]
  },
  {
   "cell_type": "code",
   "execution_count": null,
   "metadata": {
    "collapsed": true
   },
   "outputs": [],
   "source": [
    "src_ds = gdal.Open(\"NETCDF:Map_20160609.nc:pm25\")\n",
    "ulx, xres, xskew, uly, yskew, yres  = src_ds.GetGeoTransform()\n",
    "lrx = ulx + (src_ds.RasterXSize * xres)\n",
    "lry = uly + (src_ds.RasterYSize * yres)\n"
   ]
  },
  {
   "cell_type": "code",
   "execution_count": null,
   "metadata": {
    "collapsed": true
   },
   "outputs": [],
   "source": [
    "lrx"
   ]
  },
  {
   "cell_type": "code",
   "execution_count": null,
   "metadata": {
    "collapsed": true
   },
   "outputs": [],
   "source": [
    "lry"
   ]
  },
  {
   "cell_type": "code",
   "execution_count": null,
   "metadata": {
    "collapsed": true
   },
   "outputs": [],
   "source": [
    "ulx"
   ]
  },
  {
   "cell_type": "code",
   "execution_count": null,
   "metadata": {
    "collapsed": true
   },
   "outputs": [],
   "source": [
    "uly"
   ]
  },
  {
   "cell_type": "code",
   "execution_count": null,
   "metadata": {},
   "outputs": [],
   "source": [
    "len(dates)"
   ]
  },
  {
   "cell_type": "code",
   "execution_count": null,
   "metadata": {},
   "outputs": [],
   "source": [
    "dates[0]"
   ]
  },
  {
   "cell_type": "code",
   "execution_count": null,
   "metadata": {},
   "outputs": [],
   "source": [
    "ProducePng2(20170211)\n"
   ]
  },
  {
   "cell_type": "code",
   "execution_count": null,
   "metadata": {},
   "outputs": [],
   "source": [
    "cmd = \"ffmpeg -framerate 30 -pattern_type glob -i 'png/*.png' -c:v libx264 -s:v 512x512 -pix_fmt yuv420p -bf 0 -g 10 out.mp4\"\n",
    "!$cmd"
   ]
  },
  {
   "cell_type": "code",
   "execution_count": null,
   "metadata": {},
   "outputs": [],
   "source": [
    "dates[0]"
   ]
  },
  {
   "cell_type": "code",
   "execution_count": null,
   "metadata": {
    "collapsed": true
   },
   "outputs": [],
   "source": [
    "dates = []\n",
    "start_date = date(2016, 6, 1)\n",
    "end_date = date(2017, 3, 20)\n",
    "for single_date in daterange(start_date, end_date):\n",
    "    datestr  = single_date.strftime(\"%Y%m%d\")\n",
    "    ncfilename = \"Map_%s.nc\" % (datestr)\n",
    "    if os.path.exists(ncfilename):\n",
    "        dates.append('\"' + single_date.strftime(\"%Y-%m-%d\") + '\"')"
   ]
  },
  {
   "cell_type": "code",
   "execution_count": null,
   "metadata": {},
   "outputs": [],
   "source": [
    "dates[0]"
   ]
  },
  {
   "cell_type": "code",
   "execution_count": null,
   "metadata": {},
   "outputs": [],
   "source": [
    "\",\".join(dates)"
   ]
  },
  {
   "cell_type": "code",
   "execution_count": null,
   "metadata": {
    "collapsed": true
   },
   "outputs": [],
   "source": []
  }
 ],
 "metadata": {
  "kernelspec": {
   "display_name": "Python 2",
   "language": "python",
   "name": "python2"
  },
  "language_info": {
   "codemirror_mode": {
    "name": "ipython",
    "version": 2
   },
   "file_extension": ".py",
   "mimetype": "text/x-python",
   "name": "python",
   "nbconvert_exporter": "python",
   "pygments_lexer": "ipython2",
   "version": "2.7.13"
  }
 },
 "nbformat": 4,
 "nbformat_minor": 1
}
